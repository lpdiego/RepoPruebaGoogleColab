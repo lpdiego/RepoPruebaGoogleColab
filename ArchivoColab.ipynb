{
  "nbformat": 4,
  "nbformat_minor": 0,
  "metadata": {
    "colab": {
      "name": "ArchivoColab.ipynb",
      "provenance": [],
      "collapsed_sections": [],
      "include_colab_link": true
    },
    "kernelspec": {
      "name": "python3",
      "display_name": "Python 3"
    },
    "language_info": {
      "name": "python"
    }
  },
  "cells": [
    {
      "cell_type": "markdown",
      "metadata": {
        "id": "view-in-github",
        "colab_type": "text"
      },
      "source": [
        "<a href=\"https://colab.research.google.com/github/lpdiego/RepoPruebaGoogleColab/blob/main/ArchivoColab.ipynb\" target=\"_parent\"><img src=\"https://colab.research.google.com/assets/colab-badge.svg\" alt=\"Open In Colab\"/></a>"
      ]
    },
    {
      "cell_type": "code",
      "execution_count": 1,
      "metadata": {
        "id": "fB7tJAbaYyJV",
        "colab": {
          "base_uri": "https://localhost:8080/"
        },
        "outputId": "bb886907-f3b0-41b4-d54e-61c9d66eaab9"
      },
      "outputs": [
        {
          "output_type": "stream",
          "name": "stdout",
          "text": [
            "220\n"
          ]
        }
      ],
      "source": [
        "x = 1\n",
        "print(\"hello\")"
      ]
    },
    {
      "cell_type": "markdown",
      "source": [
        "Hola"
      ],
      "metadata": {
        "id": "Q47Yr8FbZVNU"
      }
    },
    {
      "cell_type": "code",
      "source": [
        "y = 220\n",
        "print (x + y)"
      ],
      "metadata": {
        "id": "TQq0gID_ZMpD",
        "colab": {
          "base_uri": "https://localhost:8080/"
        },
        "outputId": "e5b7fd81-cc21-43b5-f250-9d958c556fb3"
      },
      "execution_count": 3,
      "outputs": [
        {
          "output_type": "stream",
          "name": "stdout",
          "text": [
            "440\n"
          ]
        }
      ]
    }
  ]
}